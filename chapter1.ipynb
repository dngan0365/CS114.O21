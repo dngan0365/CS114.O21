{
  "cells": [
    {
      "cell_type": "markdown",
      "metadata": {
        "id": "view-in-github",
        "colab_type": "text"
      },
      "source": [
        "<a href=\"https://colab.research.google.com/github/dngan0365/CS114.O21/blob/main/chapter1.ipynb\" target=\"_parent\"><img src=\"https://colab.research.google.com/assets/colab-badge.svg\" alt=\"Open In Colab\"/></a>"
      ]
    },
    {
      "cell_type": "code",
      "execution_count": null,
      "metadata": {
        "colab": {
          "base_uri": "https://localhost:8080/"
        },
        "id": "gO0Xpqh4EHi0",
        "outputId": "954ff751-a174-4b01-bcad-cf25ab39cf5f"
      },
      "outputs": [
        {
          "name": "stdout",
          "output_type": "stream",
          "text": [
            "2i+3j+4k\n"
          ]
        }
      ],
      "source": [
        "def vector_representation(v):\n",
        "  components=['i','j','k']\n",
        "  return '+'.join(f\"{v[i]}{components[i]}\"for i in range(len(v)))\n",
        "\n",
        "print(vector_representation([2,3,4]))"
      ]
    },
    {
      "cell_type": "code",
      "source": [],
      "metadata": {
        "id": "MeGPZW_O1MC2"
      },
      "execution_count": null,
      "outputs": []
    },
    {
      "cell_type": "code",
      "execution_count": null,
      "metadata": {
        "colab": {
          "base_uri": "https://localhost:8080/"
        },
        "id": "-eCVPggaINU8",
        "outputId": "384fbbcb-9150-4975-acd5-5130b25f8af6"
      },
      "outputs": [
        {
          "name": "stdout",
          "output_type": "stream",
          "text": [
            "[5, 7, 9]\n"
          ]
        }
      ],
      "source": [
        "def zip(a,b):\n",
        "  c=[]\n",
        "  for i in range(len(a)):\n",
        "    c.append(a[i]+b[i])\n",
        "  return c\n",
        "\n",
        "print(zip([1,2,3],[4,5,6]))\n"
      ]
    },
    {
      "cell_type": "code",
      "execution_count": null,
      "metadata": {
        "id": "KBOPStuCI7-d"
      },
      "outputs": [],
      "source": [
        "def zip(a,b):\n",
        "  c=[]\n",
        "  for i in range(len(a)):\n",
        "    c.append(a[i]+b[i])\n",
        "  return c"
      ]
    },
    {
      "cell_type": "code",
      "source": [
        "import"
      ],
      "metadata": {
        "id": "Rl_Ejt8T7iMZ"
      },
      "execution_count": null,
      "outputs": []
    },
    {
      "cell_type": "code",
      "source": [
        "__author__ = \"Mark Pilgrim (mark@diveintopython.org)\"\n",
        "__version__ = \"$Revision: 1.2 $\"\n",
        "__date__ = \"$Date: 2004/05/05 21:57:19 $\"\n",
        "__copyright__ = \"Copyright (c) 2001 Mark Pilgrim\"\n",
        "__license__ = \"Python\"\n",
        "\n",
        "def buildConnectionString(params):\n",
        "\t\"\"\"Build a connection string from a dictionary\n",
        "\n",
        "\tReturns string.\n",
        "\t\"\"\"\n",
        "\treturn \";\".join([\"%s=%s\" % (k, v) for k, v in params.items()])\n",
        "\n",
        "if __name__ == \"__main__\":\n",
        "\tmyParams = {\"server\":\"mpilgrim\", \\\n",
        "\t\t\t\t\"database\":\"master\", \\\n",
        "\t\t\t\t\"uid\":\"sa\", \\\n",
        "\t\t\t\t\"pwd\":\"secret\"\n",
        "\t\t\t\t}\n",
        "\tprint (buildConnectionString(myParams))\n"
      ],
      "metadata": {
        "colab": {
          "base_uri": "https://localhost:8080/"
        },
        "id": "qPJ_LBLT1Np6",
        "outputId": "8ddacc2b-2a15-415d-a5dc-235323f598c6"
      },
      "execution_count": null,
      "outputs": [
        {
          "output_type": "stream",
          "name": "stdout",
          "text": [
            "server=mpilgrim;database=master;uid=sa;pwd=secret\n"
          ]
        }
      ]
    },
    {
      "cell_type": "code",
      "source": [],
      "metadata": {
        "id": "xLEWBkbN1O3-"
      },
      "execution_count": null,
      "outputs": []
    }
  ],
  "metadata": {
    "colab": {
      "toc_visible": true,
      "provenance": [],
      "mount_file_id": "1NGmploaq1NTIRgGTyP8pgSnB7rD96hIM",
      "authorship_tag": "ABX9TyPd1aPeh2QbMALZhPQea8GO",
      "include_colab_link": true
    },
    "kernelspec": {
      "display_name": "Python 3",
      "name": "python3"
    },
    "language_info": {
      "name": "python"
    }
  },
  "nbformat": 4,
  "nbformat_minor": 0
}